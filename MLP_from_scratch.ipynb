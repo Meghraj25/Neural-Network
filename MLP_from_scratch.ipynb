{
 "cells": [
  {
   "cell_type": "markdown",
   "metadata": {},
   "source": [
    "# Multilayer Perceptron from scratch"
   ]
  },
  {
   "cell_type": "markdown",
   "metadata": {},
   "source": [
    "#### In the following code i tried building Multilayer Perceptron from scratch, which is one of the main building block of artificial intelligence.\n",
    "#### There are many deep learning libraries exists that can be used to create neural network in single line of code.However,I've tried coding it from scratch just to clear up many important concepts like backpropogation, gradient descent and weight updation. "
   ]
  },
  {
   "cell_type": "markdown",
   "metadata": {},
   "source": [
    "##### Our shallow neural network consist single hidden layer of mutable size, sigmoid as activation function and Mean Square Error as cost function."
   ]
  },
  {
   "cell_type": "code",
   "execution_count": 6,
   "metadata": {},
   "outputs": [],
   "source": [
    "%matplotlib inline\n",
    "from matplotlib import pyplot as plt\n",
    "import numpy as np"
   ]
  },
  {
   "cell_type": "code",
   "execution_count": 7,
   "metadata": {},
   "outputs": [],
   "source": [
    "class My_MLP_Network(object):\n",
    "    \n",
    "    def __init__(self, x, y, hidden_layer_size, learning_rate):\n",
    "        \n",
    "        self.hiddenLayerSize = hidden_layer_size \n",
    "        self.inputData = x\n",
    "        self.outData = y\n",
    "        self.lr = learning_rate\n",
    "        self.errors = []\n",
    "        \n",
    "        self.inputLayerSize = self.inputData.shape[1]\n",
    "        self.outputLayerSize = self.outData.shape[1]\n",
    "        \n",
    "        # random weight initialization using 'randn' which returns sample from the standard normal distributuin.\n",
    "        np.random.seed(99)\n",
    "        self.W1 = np.random.randn(self.inputLayerSize, self.hiddenLayerSize) # For hidden layers\n",
    "        self.W2 = np.random.randn(self.hiddenLayerSize, self.outputLayerSize) # For output layer\n",
    "     \n",
    "    \n",
    "    def sigmoid(self,Z): # sigmoid as an activation function\n",
    "        return 1/(1+np.exp(-Z))\n",
    "    \n",
    "    def sigmoid_der(self,Z): # Derivative of sigmoid function\n",
    "        return self.sigmoid(Z)*(1-self.sigmoid(Z)) # d/dx σ(x)=σ(x)(1−σ(x))\n",
    "    \n",
    "    def feed_forward(self): # Feed Forward\n",
    "        self.layer1 = self.sigmoid(np.dot(self.inputData, self.W1)) # σ(W1.X)\n",
    "        self.output = self.sigmoid(np.dot(self.layer1, self.W2)) # σ(W2.σ(W1.X))\n",
    "        \n",
    "    def back_propogation(self): # Back Propogation\n",
    "        \n",
    "        # Derivative of loss function with respect to W1 and W2 using chain rule\n",
    "        # d_cost/dw = d_cost/d_sigmoid . d_sigmoid/dz . dz/dw\n",
    "        \n",
    "        delta_W2 = np.dot(self.layer1.T, (2*(self.outData - self.output) * self.sigmoid_der(self.output))) # Error with respect to W2(final layer weight matrix)\n",
    "        delta_W1 = np.dot(self.inputData.T, (np.dot(2*(self.outData - self.output) * self.sigmoid_der(self.output), self.W2.T) * self.sigmoid_der(self.layer1))) # Error with respect to W1(first layer weight matrix)\n",
    "        \n",
    "        # Weight Updation with new delta\n",
    "        self.W1 += self.lr * delta_W1\n",
    "        self.W2 += self.lr * delta_W2\n",
    "        \n",
    "        \n",
    "        self.errors.append(np.sum((self.outData - self.output)**2)/self.outData.shape[0]) # calculating error at each epoch\n",
    "        \n",
    "    \n",
    "        \n",
    "        \n",
    "      \n",
    "        \n",
    "        "
   ]
  },
  {
   "cell_type": "markdown",
   "metadata": {},
   "source": [
    "#### For training our ANN, I am taking 3 bits as X and Their XOR output as Y\n",
    "#### Hidden layer size as 4\n",
    "#### Learning Rate as 1\n",
    "#### Epochs 50"
   ]
  },
  {
   "cell_type": "code",
   "execution_count": 8,
   "metadata": {},
   "outputs": [],
   "source": [
    "mlp = My_MLP_Network(np.array([[0,0,1],[0,1,1],[0,1,0],[1,0,1]]), np.array([[1],[0],[1],[0]]), 4, 1)"
   ]
  },
  {
   "cell_type": "markdown",
   "metadata": {},
   "source": [
    "#### Lets train our data for 50 iterations"
   ]
  },
  {
   "cell_type": "code",
   "execution_count": 9,
   "metadata": {},
   "outputs": [],
   "source": [
    "for i in range(50):\n",
    "    mlp.feed_forward()\n",
    "    mlp.back_propogation()"
   ]
  },
  {
   "cell_type": "markdown",
   "metadata": {},
   "source": [
    "#### Loss per Iteration"
   ]
  },
  {
   "cell_type": "code",
   "execution_count": 11,
   "metadata": {},
   "outputs": [
    {
     "data": {
      "image/png": "[encoded data removed]",
      "text/plain": [
       "<Figure size 432x288 with 1 Axes>"
      ]
     },
     "metadata": {},
     "output_type": "display_data"
    }
   ],
   "source": [
    "Lspace = list(range(50))\n",
    "plt.plot(Lspace,mlp.errors)\n",
    "plt.xlabel('Iterations(Epoch)')\n",
    "plt.ylabel('Loss')\n",
    "plt.title('Loss Per iteration')\n",
    "plt.show()"
   ]
  },
  {
   "cell_type": "markdown",
   "metadata": {},
   "source": [
    "We can see that loss is decreasing per iteration towards its minima almost touches zero\n",
    "[I took only 4 samples to train with 4 neurons in hidden layer which then memorizes all four samples\n",
    "hence we get error which very close to zero]\n"
   ]
  }
 ],
 "metadata": {
  "kernelspec": {
   "display_name": "Python 3",
   "language": "python",
   "name": "python3"
  },
  "language_info": {
   "codemirror_mode": {
    "name": "ipython",
    "version": 3
   },
   "file_extension": ".py",
   "mimetype": "text/x-python",
   "name": "python",
   "nbconvert_exporter": "python",
   "pygments_lexer": "ipython3",
   "version": "3.6.5"
  }
 },
 "nbformat": 4,
 "nbformat_minor": 2
}
